{
 "cells": [
  {
   "cell_type": "code",
   "execution_count": 1,
   "metadata": {
    "collapsed": false
   },
   "outputs": [],
   "source": [
    "import time\n",
    "import numpy as np\n",
    "import pandas as pd\n",
    "import ecnconst\n",
    "import matplotlib.pyplot as plt\n",
    "%matplotlib inline"
   ]
  },
  {
   "cell_type": "code",
   "execution_count": 2,
   "metadata": {
    "collapsed": true
   },
   "outputs": [],
   "source": [
    "from IPython.core.display import HTML"
   ]
  },
  {
   "cell_type": "code",
   "execution_count": 3,
   "metadata": {
    "collapsed": false
   },
   "outputs": [],
   "source": [
    "S = ecnconst.TCP_SYN\n",
    "R = ecnconst.TCP_RST\n",
    "SA = ecnconst.TCP_SYN | ecnconst.TCP_ACK\n",
    "SEW = (ecnconst.TCP_SYN | ecnconst.TCP_ECE | ecnconst.TCP_CWR)\n",
    "SAE = (ecnconst.TCP_SYN | ecnconst.TCP_ECE | ecnconst.TCP_ACK)\n",
    "SAEW = (ecnconst.TCP_SYN | ecnconst.TCP_ECE | ecnconst.TCP_ACK | ecnconst.TCP_CWR)\n",
    "QECT = (ecnconst.QOF_ECT0 | ecnconst.QOF_ECT1)\n",
    "QECT0 = ecnconst.QOF_ECT0\n",
    "QECT1 = ecnconst.QOF_ECT1\n",
    "QCE = ecnconst.QOF_CE"
   ]
  },
  {
   "cell_type": "code",
   "execution_count": 4,
   "metadata": {
    "collapsed": true
   },
   "outputs": [],
   "source": [
    "RESULT_NOBODYHOME = 0\n",
    "RESULT_OTHER = 1\n",
    "RESULT_BROKEN = 2\n",
    "RESULT_WORKS = 3"
   ]
  },
  {
   "cell_type": "markdown",
   "metadata": {},
   "source": [
    "# Load data from csv"
   ]
  },
  {
   "cell_type": "code",
   "execution_count": 5,
   "metadata": {
    "collapsed": false
   },
   "outputs": [
    {
     "data": {
      "text/plain": [
       "(9998886, 14)"
      ]
     },
     "execution_count": 5,
     "metadata": {},
     "output_type": "execute_result"
    }
   ],
   "source": [
    "df = pd.read_csv('meas/m110515_01.csv')\n",
    "df.shape\n",
    "#                 names=['site','ip','port','rport','ecnstate','nodeid','connstate','fif','fsf','fuf','fir','fsr','fur','ttl'])"
   ]
  },
  {
   "cell_type": "markdown",
   "metadata": {},
   "source": [
    "# Cleanup\n",
    "Remove all flows without SYN"
   ]
  },
  {
   "cell_type": "code",
   "execution_count": 6,
   "metadata": {
    "collapsed": false
   },
   "outputs": [
    {
     "name": "stdout",
     "output_type": "stream",
     "text": [
      "Deleting flows without initial SYN: 11 of 9998886 (0.0%) were affected.\n"
     ]
    }
   ],
   "source": [
    "mask_initsyn = (df['fif'] & ecnconst.TCP_SYN) != 0\n",
    "count_nosyn = df.shape[0] - np.sum(mask_initsyn)\n",
    "print(\"Deleting flows without initial SYN: {} of {} ({:.1%}) were affected.\".format(count_nosyn, df.shape[0], float(count_nosyn) / df.shape[0]))\n",
    "df = df[mask_initsyn]\n",
    "del mask_initsyn"
   ]
  },
  {
   "cell_type": "markdown",
   "metadata": {
    "collapsed": false
   },
   "source": [
    "# ECN capability analysis"
   ]
  },
  {
   "cell_type": "code",
   "execution_count": 7,
   "metadata": {
    "collapsed": false
   },
   "outputs": [],
   "source": [
    "# ECN flags on TCP layer\n",
    "df['ecnAttempted'] = np.bitwise_and(df['fsf'], SAEW) == SEW\n",
    "df['ecnNegotiated'] = np.bitwise_and(df['fsr'], SAEW) == SAE\n",
    "\n",
    "# ECN flags on IP layer\n",
    "df[\"ecnCapable\"] = np.bitwise_and(df[\"fur\"], QECT0 << 8) > 0\n",
    "df[\"ecnECT1\"] = np.bitwise_and(df[\"fur\"], QECT1 << 8) > 0\n",
    "df[\"ecnCE\"] = np.bitwise_and(df[\"fur\"], QCE << 8) > 0\n",
    "\n",
    "# check for SYN, SYN+ACK\n",
    "df[\"didEstablish\"] = ((np.bitwise_and(df[\"fsf\"], S) == S) &\n",
    "                      (np.bitwise_and(df[\"fsr\"], SA) == SA))"
   ]
  },
  {
   "cell_type": "code",
   "execution_count": 8,
   "metadata": {
    "collapsed": false
   },
   "outputs": [
    {
     "name": "stdout",
     "output_type": "stream",
     "text": [
      "Percentage of sucessfully ecn-enabled connections when asking for ecn: 18.89%\n"
     ]
    }
   ],
   "source": [
    "print(\"Percentage of sucessfully ecn-enabled connections when asking for ecn: {:.2%}\".format(\n",
    "    (df['ecnNegotiated'] & df['connstate']).sum() / (df['ecnAttempted'] & df['connstate']).sum()\n",
    "    ))"
   ]
  },
  {
   "cell_type": "code",
   "execution_count": 9,
   "metadata": {
    "collapsed": false
   },
   "outputs": [
    {
     "name": "stdout",
     "output_type": "stream",
     "text": [
      "Number of connections reported differently by the OS and QoF: 99015 of 9998875 (0.99%)\n"
     ]
    }
   ],
   "source": [
    "conn_conflict = df[df['connstate'] != df['didEstablish']]\n",
    "print(\"Number of connections reported differently by the OS and QoF: {} of {} ({:.2%})\".format(conn_conflict.shape[0], df.shape[0], conn_conflict.shape[0] / df.shape[0]))"
   ]
  },
  {
   "cell_type": "code",
   "execution_count": 10,
   "metadata": {
    "collapsed": false
   },
   "outputs": [
    {
     "name": "stdout",
     "output_type": "stream",
     "text": [
      "Number of connections reported as established by the OS but as failure by QoF: 88765 of 9998875 (0.89%)\n"
     ]
    }
   ],
   "source": [
    "conn_conflict = df[(df['connstate'] == 1) & (df['connstate'] != df['didEstablish'])]\n",
    "print(\"Number of connections reported as established by the OS but as failure by QoF: {} of {} ({:.2%})\".format(conn_conflict.shape[0], df.shape[0], conn_conflict.shape[0] / df.shape[0]))"
   ]
  },
  {
   "cell_type": "code",
   "execution_count": 11,
   "metadata": {
    "collapsed": false
   },
   "outputs": [
    {
     "name": "stdout",
     "output_type": "stream",
     "text": [
      "Number of connections reported as failure by the OS but as success by QoF: 10250 of 9998875 (0.10%)\n"
     ]
    }
   ],
   "source": [
    "conn_conflict = df[(df['connstate'] == 0) & (df['connstate'] != df['didEstablish'])]\n",
    "print(\"Number of connections reported as failure by the OS but as success by QoF: {} of {} ({:.2%})\".format(conn_conflict.shape[0], df.shape[0], conn_conflict.shape[0] / df.shape[0]))"
   ]
  },
  {
   "cell_type": "markdown",
   "metadata": {},
   "source": [
    "# Group by endpoints and transform site results to columns"
   ]
  },
  {
   "cell_type": "code",
   "execution_count": 12,
   "metadata": {
    "collapsed": false
   },
   "outputs": [],
   "source": [
    "sites = df['site'].unique()"
   ]
  },
  {
   "cell_type": "code",
   "execution_count": 13,
   "metadata": {
    "collapsed": false
   },
   "outputs": [
    {
     "name": "stdout",
     "output_type": "stream",
     "text": [
      "22:42:26\n"
     ]
    }
   ],
   "source": [
    "print(time.strftime(\"%H:%M:%S\"))"
   ]
  },
  {
   "cell_type": "code",
   "execution_count": 14,
   "metadata": {
    "collapsed": false,
    "scrolled": true
   },
   "outputs": [
    {
     "name": "stdout",
     "output_type": "stream",
     "text": [
      "22:45:19 50000\n",
      "22:47:56 100000\n",
      "22:50:30 150000\n",
      "22:53:04 200000\n",
      "22:55:37 250000\n",
      "22:58:10 300000\n",
      "23:00:43 350000\n",
      "23:03:16 400000\n",
      "23:05:47 450000\n",
      "23:08:16 500000\n",
      "23:10:45 550000\n",
      "23:13:15 600000\n",
      "23:15:44 650000\n",
      "23:18:13 700000\n",
      "23:20:42 750000\n",
      "23:23:10 800000\n",
      "23:25:38 850000\n",
      "23:28:07 900000\n",
      "23:30:35 950000\n",
      "3029.124983072281\n"
     ]
    }
   ],
   "source": [
    "incomplete_groups = set()\n",
    "dfa = []\n",
    "i = 0\n",
    "j = 0\n",
    "t0 = time.time()\n",
    "for name, group in df.groupby(by='ip'):\n",
    "    if i == 50000:\n",
    "        print(time.strftime(\"%H:%M:%S\"), j)\n",
    "        i = 0\n",
    "    i+=1\n",
    "    j+=1\n",
    "    \n",
    "    cols = {'ip':group['ip'].iloc[0], 'port':group['port'].iloc[0]}\n",
    "    for site, gsite in group.groupby(by='site'):\n",
    "        #gsite = group[group['site'] == site]\n",
    "        try:\n",
    "            if gsite.iloc[0]['ecnstate'] == 1:\n",
    "                ecn_on = gsite.iloc[0]\n",
    "                ecn_off = gsite.iloc[1]\n",
    "            else:\n",
    "                ecn_off = gsite.iloc[0]\n",
    "                ecn_on = gsite.iloc[1]\n",
    "        except IndexError:\n",
    "            incomplete_groups.add(group['ip'].iloc[0])\n",
    "            break\n",
    "        \n",
    "        if ecn_off['connstate'] and ecn_on['connstate']:\n",
    "            result = RESULT_WORKS\n",
    "        elif ecn_off['connstate'] and not ecn_on['connstate']:\n",
    "            result = RESULT_BROKEN\n",
    "        elif not ecn_off['connstate'] and not ecn_on['connstate']:\n",
    "            result = RESULT_NOBODYHOME\n",
    "        else:\n",
    "            result = RESULT_OTHER\n",
    "        \n",
    "        cols['result-'+site] = result\n",
    "        cols['ecnNegotiated-'+site] = ecn_on['ecnNegotiated']\n",
    "        cols['ttl-'+site] = ecn_off['ttl']\n",
    "    dfa.append(cols)\n",
    "t1 = time.time()\n",
    "print(t1 - t0)"
   ]
  },
  {
   "cell_type": "code",
   "execution_count": 32,
   "metadata": {
    "collapsed": true
   },
   "outputs": [],
   "source": [
    "dfg = pd.DataFrame(dfa)\n",
    "dfg.to_csv('meas/m110515_01.grouped.csv')"
   ]
  },
  {
   "cell_type": "code",
   "execution_count": 33,
   "metadata": {
    "collapsed": false
   },
   "outputs": [],
   "source": [
    "dfg = pd.read_csv('meas/m110515_01.grouped.csv')"
   ]
  },
  {
   "cell_type": "markdown",
   "metadata": {},
   "source": [
    "# Is dataset complete?"
   ]
  },
  {
   "cell_type": "code",
   "execution_count": 35,
   "metadata": {
    "collapsed": false,
    "scrolled": true
   },
   "outputs": [
    {
     "name": "stdout",
     "output_type": "stream",
     "text": [
      "Warning: There are 1097 ips where measurement results are missing from one or more vantage points.\n",
      "119.246.176.229,123.131.138.202,36.231.105.211,188.76.83.224,202.22.232.136,79.114.112.135,176.215.42.168,5.129.253.110,61.227.230.243,122.7.213.247,124.244.121.203,101.50.46.49,14.200.74.231,207.172.189.137,211.223.80.37,24.177.216.101,188.78.209.52,60.56.196.50,71.125.19.60,85.130.43.181,27.32.142.96,75.187.54.186,58.168.1.107,1.173.53.88,90.202.25.186,182.201.137.35,37.98.253.90,111.255.38.185,176.187.236.30,71.95.52.230,118.168.166.162,199.193.118.112,2.226.238.140,175.108.202.76,177.37.126.153,105.229.21.86,109.26.6.99,5.189.30.213,77.175.235.182,70.73.155.56,92.98.41.132,121.170.38.183,14.201.123.138,118.32.45.220,180.197.39.58,121.211.100.121,183.141.142.130,211.30.152.52,101.127.6.154,176.192.248.50,5.143.110.98,174.51.192.126,14.47.49.93,72.185.239.126,109.189.205.241,82.224.246.215,222.251.146.156,46.73.151.21,24.113.67.36,73.181.59.80,60.34.113.132,119.49.205.78,176.193.99.50,81.66.26.39,66.86.125.115,178.140.180.195,1.161.85.199,182.165.96.68,24.254.158.64,74.136.41.59,73.9.115.175,49.69.93.217,83.84.23.135,78.216.106.146,121.2.254.247,36.237.194.74,72.214.52.151,77.70.46.252,105.186.121.113,177.82.197.227,1.161.13.157,85.51.132.108,124.148.108.198,162.243.151.29,176.8.179.140,87.126.73.192,186.52.188.29,86.197.169.71,66.229.122.206,139.228.125.192,92.115.61.17,98.168.235.36,31.36.166.237,101.176.102.66,67.167.93.188,199.254.110.159,110.52.198.153,174.1.108.191,201.212.107.130,90.31.29.5,74.136.52.149,123.131.140.158,118.40.2.234,190.100.142.103,14.121.115.14,78.29.231.226,83.209.122.223,110.22.53.30,182.242.76.12,198.53.189.56,114.198.89.109,175.160.0.213,174.0.44.101,115.132.81.74,139.216.22.11,31.148.63.214,95.42.85.43,98.234.235.221,212.195.5.102,141.105.47.114,216.113.48.49,76.181.120.106,70.190.0.140,161.184.241.117,27.156.57.187,66.91.211.136,49.213.67.229,86.123.255.57,71.75.163.247,111.196.5.233,116.49.179.45,5.189.8.140,69.145.230.7,142.197.115.129,89.177.25.190,157.192.146.140,119.237.108.204,176.15.62.33,83.80.187.10,67.169.227.80,190.21.81.107,182.226.110.99,124.211.189.133,153.177.76.170,59.17.19.183,219.231.156.4,27.131.213.4,122.135.26.204,77.106.111.252,123.143.37.211,123.130.27.93,76.172.75.48,46.233.23.227,46.242.55.15,81.203.63.250,67.172.229.154,188.0.2.81,67.81.100.154,174.102.20.230,183.160.7.102,60.3.88.116,101.229.59.50,91.144.115.118,190.136.189.105,24.46.146.168,112.155.203.193,1.242.110.185,50.66.74.54,76.174.21.130,86.126.186.198,184.161.246.220,189.18.172.162,123.169.122.92,75.170.52.153,50.46.220.207,123.246.58.94,109.201.154.157,121.216.1.214,122.129.241.105,203.213.88.165,92.56.118.17,24.52.216.177,106.113.59.137,49.87.88.236,85.221.186.136,99.233.58.124,97.90.17.221,174.113.34.162,125.77.224.11,114.42.162.239,70.29.165.116,1.175.98.53,62.199.196.42,60.211.144.81,24.85.182.71,79.83.220.116,130.204.94.235,219.240.33.128,117.192.255.28,101.164.237.177,50.156.23.250,162.213.223.183,201.143.245.137,178.141.167.160,77.70.68.240,96.246.216.90,200.112.60.240,219.79.43.230,75.97.128.8,95.59.222.2,92.160.114.130,5.189.18.119,46.48.115.78,66.108.201.48,182.202.172.235,190.19.58.2,176.120.118.78,70.67.183.90,1.123.129.55,109.174.36.196,99.161.147.238,86.27.65.242,123.244.101.108,62.85.7.41,24.233.232.254,14.203.38.88,14.33.165.38,195.177.104.154,79.116.7.172,42.122.180.61,78.240.81.80,107.15.44.50,172.219.132.175,218.166.94.26,68.61.137.117,113.253.116.80,14.159.174.209,46.163.183.219,83.165.230.151,109.93.209.100,112.92.113.175,109.111.177.99,201.222.215.2,42.101.140.183,177.98.127.107,68.56.232.82,180.24.180.172,95.22.180.240,123.243.211.247,152.247.244.54,126.207.38.82,46.48.55.106,1.36.252.111,68.98.30.125,180.95.170.180,1.34.196.197,101.185.79.107,175.197.130.56,14.36.241.192,86.98.98.27,183.163.13.82,178.184.162.73,95.152.25.48,2.108.206.2,67.149.147.147,92.1.67.19,115.235.88.209,197.89.102.180,184.66.4.51,217.211.207.111,209.104.119.7,190.167.139.86,93.124.45.96,67.193.236.129,175.112.55.48,114.39.93.132,108.11.181.212,119.77.174.234,125.59.1.233,74.71.166.152,78.164.145.60,116.65.106.223,117.145.77.56,41.158.96.13,79.178.200.209,90.8.171.23,37.55.217.154,212.106.25.31,188.226.3.69,5.189.56.232,61.83.61.159,78.69.219.205,93.80.175.237,77.79.176.253,182.91.249.19,183.30.18.149,71.90.252.157,27.25.4.182,109.217.245.212,91.185.47.82,24.16.165.75,46.164.1.11,92.243.119.84,83.114.153.239,122.121.202.16,89.158.170.138,109.86.185.57,191.205.157.41,24.137.109.97,84.120.21.179,79.177.191.7,203.122.212.76,1.245.98.139,124.168.67.28,114.88.217.15,138.229.202.89,179.176.119.238,172.250.203.198,37.15.93.97,1.31.64.175,58.243.149.176,123.166.77.200,115.66.101.51,82.10.202.70,84.244.11.130,89.209.115.245,114.251.90.165,46.176.105.74,90.64.98.12,190.188.222.22,101.142.165.245,114.164.214.21,31.14.128.213,202.216.21.93,188.27.164.158,109.182.24.184,89.16.5.151,96.52.42.215,203.219.130.112,78.193.131.16,178.206.41.84,79.164.141.63,125.81.12.121,183.141.75.116,94.244.16.99,213.197.67.36,124.53.97.80,86.125.188.94,178.33.9.4,79.114.9.215,60.186.15.27,78.241.42.18,73.143.8.217,79.115.117.109,177.81.209.47,93.152.193.70,87.219.69.90,73.190.19.223,124.57.75.41,78.242.252.162,50.126.115.178,24.57.120.245,5.165.198.247,58.6.202.217,84.108.213.84,113.255.125.114,61.77.227.229,42.3.178.26,71.49.236.252,84.79.221.214,101.189.114.31,181.169.85.205,115.218.89.195,36.226.93.32,121.211.75.211,90.231.1.119,95.111.33.68,147.69.12.243,27.203.79.82,84.94.79.109,105.184.137.247,93.120.249.2,211.133.23.134,61.223.184.13,69.47.137.78,124.187.103.10,122.144.8.56,195.154.8.180,85.155.37.18,177.225.246.32,173.171.114.22,124.169.142.41,60.242.134.15,111.165.94.70,60.36.59.112,69.118.147.115,182.222.96.146,78.229.210.166,105.226.197.25,176.197.81.56,222.167.214.48,110.14.35.14,68.168.181.67,140.113.95.19,68.186.129.194,108.38.126.196,88.169.48.138,178.213.38.189,90.170.73.240,68.187.107.29,117.242.18.41,221.225.167.12,37.8.157.135,206.116.254.151,191.187.205.156,89.133.81.145,101.177.97.11,201.253.49.59,59.92.252.33,174.113.81.103,78.184.48.19,73.201.187.199,118.171.75.77,222.134.185.47,125.224.245.63,175.192.252.70,213.57.237.117,218.236.138.82,210.206.11.107,31.163.67.174,5.189.20.196,60.48.106.60,61.137.222.102,121.116.43.243,109.127.179.217,1.174.248.52,24.168.13.66,37.48.71.90,89.142.159.244,186.14.51.201,79.119.245.63,106.187.103.182,219.241.135.238,24.77.198.196,24.99.240.242,86.124.191.239,220.17.72.48,93.123.201.28,151.0.32.207,113.71.106.76,85.175.22.207,179.232.178.65,94.180.3.170,24.19.163.232,31.207.253.26,46.246.61.152,197.89.18.142,175.9.71.171,92.37.246.244,75.159.7.204,95.32.140.100,188.27.93.3,36.239.111.45,42.2.100.149,1.162.28.240,116.49.214.44,185.24.1.6,207.155.88.129,37.78.138.107,121.128.106.180,59.148.19.213,135.23.35.60,79.180.204.222,109.101.56.236,174.2.202.83,93.31.218.27,94.23.149.60,23.91.249.27,59.85.192.95,73.212.192.183,120.71.34.125,79.116.3.218,93.152.214.204,165.228.154.161,79.117.233.74,24.122.154.222,42.184.160.66,77.229.137.115,14.40.24.60,202.29.238.43,121.114.169.221,2.2.246.74,65.93.120.217,74.108.60.228,86.127.16.246,195.36.249.240,24.230.127.251,46.238.25.2,58.167.90.71,90.49.156.11,118.33.18.106,1.234.183.38,96.252.185.60,93.114.166.74,188.241.8.210,66.41.225.224,77.79.141.90,125.47.203.176,183.20.161.78,188.63.68.248,39.77.183.108,36.225.215.54,181.25.220.147,113.151.148.40,114.41.184.173,89.90.44.11,109.124.12.75,187.54.157.132,50.168.71.172,174.20.9.85,77.87.90.150,81.181.100.74,75.148.246.125,42.88.190.162,59.3.237.252,71.167.46.217,83.7.166.219,111.248.104.74,180.15.14.69,191.185.197.242,181.228.25.33,111.248.142.248,178.186.150.171,123.161.36.154,98.207.102.221,220.134.243.193,61.171.40.192,79.126.107.194,79.136.250.222,90.58.231.84,94.125.53.74,188.235.143.4,181.194.190.132,175.136.23.127,111.252.240.252,81.56.36.229,79.100.141.139,182.234.196.237,60.241.250.92,175.156.169.250,46.117.38.28,189.60.178.214,31.29.103.149,86.96.35.115,46.48.62.196,79.179.21.148,24.222.201.96,186.205.204.108,2.124.212.211,188.26.82.158,50.148.103.23,218.156.112.21,46.160.79.176,59.149.203.173,67.10.157.27,85.73.185.81,180.252.79.132,186.80.84.2,176.65.34.187,49.66.196.199,73.181.35.222,175.156.178.47,77.123.217.55,78.132.246.139,89.81.45.87,213.108.78.247,94.203.229.81,70.170.14.26,142.217.10.132,98.199.214.194,85.65.72.150,90.171.205.43,93.100.60.109,90.2.102.103,209.6.147.96,67.193.89.13,46.173.178.162,98.251.131.123,50.141.226.71,78.122.64.222,135.0.152.213,1.42.15.128,49.114.35.118,125.208.211.131,37.113.186.206,119.183.104.164,86.170.218.147,42.224.221.213,207.96.245.109,122.30.50.250,86.123.143.164,191.32.82.227,50.72.114.12,114.33.207.217,50.191.65.77,73.167.99.141,24.64.26.183,76.3.18.121,71.198.114.62,86.207.233.183,73.150.26.93,95.103.174.4,65.185.43.87,85.65.79.179,50.67.166.18,110.74.221.101,130.204.69.201,91.158.217.135,71.193.231.234,183.99.143.248,84.126.166.215,125.192.151.116,209.141.62.195,78.127.212.2,24.122.65.110,85.69.223.55,94.59.4.11,74.113.181.4,178.137.114.100,177.141.242.183,58.102.78.183,87.60.30.251,70.79.58.3,76.2.184.174,180.94.136.202,211.244.71.62,93.116.120.33,97.94.170.163,68.47.254.52,36.82.12.198,77.125.209.141,188.254.205.116,105.225.78.138,14.201.201.186,190.247.218.56,74.131.57.39,88.122.146.95,120.88.35.45,190.193.129.128,23.241.149.105,178.44.185.254,68.146.32.174,46.118.37.42,70.53.238.254,95.5.13.240,95.39.146.52,216.183.145.165,95.43.110.30,110.86.80.119,179.190.197.81,62.68.131.91,76.169.110.71,79.114.245.90,99.229.22.54,189.121.56.179,79.94.197.186,92.47.53.86,100.37.171.9,177.33.18.130,79.186.21.105,86.173.112.166,218.250.230.68,24.176.43.3,125.160.113.241,60.242.146.192,46.149.72.48,96.22.196.200,180.66.105.154,86.133.254.111,186.190.191.114,71.251.104.69,124.225.47.108,216.8.164.147,112.233.34.159,94.12.40.177,98.207.176.66,118.253.158.131,2.1.130.33,189.196.89.114,203.56.188.128,178.213.184.93,179.52.210.236,188.78.166.131,184.14.121.150,75.68.233.21,118.232.34.177,27.151.171.238,71.10.250.182,213.227.252.187,116.68.243.177,50.180.75.66,76.27.253.210,67.162.230.145,175.139.57.248,202.172.108.152,68.38.94.238,190.205.132.200,31.39.129.191,64.180.179.4,122.117.134.214,78.90.169.9,78.154.13.210,203.121.250.20,126.216.112.159,109.23.192.68,140.250.240.83,82.118.255.32,85.51.242.187,180.183.26.215,79.165.147.79,58.243.199.176,172.1.196.245,184.161.71.55,128.204.39.133,117.57.53.185,188.186.20.247,213.188.186.220,1.162.50.105,112.169.111.19,112.138.201.16,178.186.60.151,77.70.28.208,218.157.112.225,97.124.252.8,24.84.242.198,79.178.178.71,95.18.34.134,203.158.33.94,42.2.252.140,79.165.200.174,88.198.36.111,109.165.36.169,179.178.46.4,80.201.52.90,173.183.168.54,71.238.166.157,96.38.153.200,49.145.43.215,122.118.142.108,122.107.253.36,109.16.13.115,101.100.160.193,81.182.136.103,101.174.31.69,66.69.225.198,116.86.167.92,60.208.202.218,112.168.71.206,99.192.37.228,222.2.90.47,97.82.40.92,115.195.170.30,96.42.32.60,1.234.138.169,105.226.22.35,180.44.52.186,94.59.212.9,175.148.89.248,110.67.151.203,79.114.121.24,2.92.34.33,73.191.192.194,88.141.17.177,68.3.239.81,98.217.117.250,188.24.28.4,46.238.33.157,62.210.113.114,24.212.243.131,180.71.134.39,119.36.49.125,120.155.43.196,71.227.195.227,46.174.250.148,92.97.80.218,98.232.49.227,61.221.55.4,113.159.183.151,213.213.147.151,86.186.94.119,70.171.77.98,106.160.47.223,109.160.253.60,173.247.195.224,78.194.226.173,78.237.49.55,88.82.171.184,121.174.250.157,91.92.138.4,61.251.78.3,79.119.182.234,213.231.144.129,46.214.204.244,175.150.153.127,78.90.122.187,58.191.213.135,86.59.130.70,120.219.142.98,58.34.176.242,122.150.107.129,87.126.122.129,31.40.45.115,77.231.152.51,77.37.177.151,71.192.227.160,81.196.224.64,46.10.106.201,81.184.109.33,110.12.95.133,24.117.169.229,111.127.111.12,14.45.182.116,58.209.142.220,216.86.144.11,70.78.167.29,86.152.212.114,79.119.108.166,173.172.215.245,174.55.64.64,23.243.49.236,80.0.191.159,122.109.55.28,211.187.108.89,117.202.129.13,66.172.33.55,75.132.46.0,105.224.86.161,109.201.228.105,118.211.30.47,101.98.197.198,220.125.181.58,182.161.154.101,70.185.195.220,213.64.109.119,174.7.173.52,37.131.192.66,95.42.21.63,220.78.200.6,192.0.236.45,94.23.40.103,59.146.174.135,94.251.110.107,118.72.251.53,109.104.198.9,123.108.173.6,24.107.44.195,5.189.7.54,95.47.21.85,109.65.101.154,175.114.38.186,108.45.36.139,116.197.196.12,202.229.93.60,58.208.121.5,99.248.11.189,219.157.250.199,67.87.122.40,180.218.169.27,46.121.109.95,27.49.41.144,60.48.188.107,89.201.150.69,121.239.158.251,2.92.66.95,98.203.59.81,120.146.223.173,114.46.39.186,213.16.169.183,213.222.239.206,125.114.62.153,24.10.126.104,96.51.223.203,98.19.128.205,46.233.2.204,68.205.161.227,66.90.145.39,109.187.226.241,201.143.14.251,50.47.17.63,1.164.87.49,2.61.79.22,98.231.59.126,83.134.36.190,178.184.168.216,187.20.208.201,76.18.204.221,112.102.136.97,178.59.91.253,91.139.240.191,188.26.56.119,222.160.184.230,5.35.4.244,109.153.40.212,130.204.69.170,189.122.240.220,114.219.31.252,183.95.75.46,77.220.137.140,94.59.120.88,98.165.104.225,220.135.112.130,188.243.115.170,177.84.177.28,27.143.105.172,43.225.149.11,122.140.28.46,85.28.74.124,74.82.238.180,95.42.24.186,106.35.211.137,24.246.25.99,77.148.213.32,79.165.4.137,116.48.116.48,68.204.34.217,101.22.85.128,112.222.49.203,213.57.12.15,78.199.154.95,179.182.230.4,74.97.191.165,104.173.233.202,77.123.66.65,220.253.20.87,219.105.37.18,78.87.167.177,139.216.35.109,79.136.197.46,91.126.196.195,87.126.35.36,109.16.63.120,89.138.18.111,190.217.171.156,110.149.151.42,94.26.97.76,42.239.223.214,66.69.138.247,216.8.185.86,69.114.122.198,178.75.64.80,181.118.212.87,14.133.208.205,66.69.110.56,71.85.158.87,175.146.74.49,46.188.73.193,94.203.128.217,173.33.244.222,109.65.211.203,190.143.46.81,93.146.91.165,218.226.160.16,70.73.0.22,122.137.83.138,211.108.207.202,124.111.117.91,86.124.192.79,124.126.189.172,218.81.146.247,182.48.148.77,12.17.181.202,79.181.145.246,199.192.226.163,180.183.144.73,88.178.217.245,89.85.83.191,109.103.48.188,122.190.207.252,68.45.42.221,85.94.102.180,85.15.235.166,95.165.230.118,178.40.138.30,49.213.67.226,58.176.219.142,98.109.161.36,183.136.153.70,67.11.171.146,78.90.225.141,126.79.2.135,134.249.34.220,78.110.157.213,37.210.132.7,112.102.136.215,66.171.60.110,90.231.226.239,113.159.158.121,46.48.7.191,92.249.233.8,187.4.121.211,203.219.240.43,203.80.68.119,121.136.21.229,220.240.245.197,24.28.23.10,82.235.235.93,119.5.171.218,176.40.60.54,121.118.120.165,106.35.114.105,201.248.22.142,110.177.198.93,118.99.238.225,117.192.74.173,123.215.149.102,60.242.5.127,81.99.74.226,90.148.27.51,121.214.166.19,77.27.95.213,120.148.232.26,70.82.4.84,73.171.60.132,180.114.91.1,88.165.7.54,90.196.110.36,188.113.6.116,109.100.82.58,186.57.149.213,119.198.251.140,115.38.137.194,188.163.37.98,201.22.31.127,31.31.7.211,74.213.113.210,79.136.160.27,88.197.46.90,189.40.42.11,94.189.148.40,123.202.169.14,128.140.181.126,118.189.184.25,117.29.39.223,113.234.104.149,183.104.141.156,80.236.239.129,105.210.128.48,178.95.136.23,85.219.80.200,70.178.22.94,66.203.209.227,99.98.152.15,104.34.208.64,119.71.246.169,109.99.2.138,14.112.24.215,188.124.105.104,203.218.171.134,220.93.107.34,210.195.140.250,41.57.125.186,70.73.101.97,78.121.81.154,5.189.4.137,90.170.214.57,1.229.79.86,123.138.125.38,73.37.177.30,95.220.87.83,101.167.100.167,200.158.237.102,184.180.129.98,79.117.136.254,201.47.228.48,175.155.147.254,95.82.242.136,139.218.98.233,218.39.89.54,50.46.244.40,197.89.150.21,73.15.205.127,84.240.221.104,117.63.167.146,70.71.79.150,69.243.68.162,121.211.37.41,76.119.66.94,77.131.8.89,115.179.128.145,80.213.253.126,199.126.16.39,58.160.136.162,59.11.36.134,104.157.230.214,73.171.143.240,175.194.111.222,187.253.18.169\n"
     ]
    }
   ],
   "source": [
    "if len(incomplete_groups) > 0:\n",
    "    print(\"Warning: There are {} ips where measurement results are missing from one or more vantage points.\".format(len(incomplete_groups)))\n",
    "    print(\",\".join(incomplete_groups))\n",
    "else:\n",
    "    print(\"OK! All ips have measurement results from all vantage points.\")"
   ]
  },
  {
   "cell_type": "markdown",
   "metadata": {},
   "source": [
    "# Results"
   ]
  },
  {
   "cell_type": "code",
   "execution_count": 73,
   "metadata": {
    "collapsed": false
   },
   "outputs": [
    {
     "name": "stdout",
     "output_type": "stream",
     "text": [
      "online: 687089 (68.71%)\n"
     ]
    }
   ],
   "source": [
    "# offline: never made any successful connection\n",
    "mask_offline = dfg['result-'+sites].apply(lambda x: x == RESULT_NOBODYHOME, reduce=False).all(axis=1)\n",
    "df_online = dfg[-mask_offline]\n",
    "\n",
    "num_offline = (mask_offline.sum())\n",
    "num_online = (-mask_offline).sum()\n",
    "print(\"online: {} ({:.2%})\".format(num_online, num_online/dfg.shape[0]))"
   ]
  },
  {
   "cell_type": "code",
   "execution_count": 74,
   "metadata": {
    "collapsed": false
   },
   "outputs": [
    {
     "name": "stdout",
     "output_type": "stream",
     "text": [
      "works all path: 634426 (92.335%)\n"
     ]
    }
   ],
   "source": [
    "# always works without ECN and with ECN\n",
    "mask_works = df_online['result-'+sites].apply(lambda x: x == RESULT_WORKS, reduce=False).all(axis=1)\n",
    "df_works = df_online[mask_works]\n",
    "num_works = mask_works.sum()\n",
    "\n",
    "print(\"works all path: {} ({:.3%})\".format(num_works, num_works/num_online))\n",
    "\n",
    "# gather the rest\n",
    "num_works_not = (np.logical_not(mask_works)).sum()\n",
    "df_works_not = df_online[np.logical_not(mask_works)]"
   ]
  },
  {
   "cell_type": "code",
   "execution_count": 75,
   "metadata": {
    "collapsed": false
   },
   "outputs": [
    {
     "name": "stdout",
     "output_type": "stream",
     "text": [
      "always works without ECN but never with ECN: 1441 (0.210%)\n"
     ]
    }
   ],
   "source": [
    "# always works without ECN but never with ECN\n",
    "mask_totally_broken = df_works_not['result-'+sites].apply(lambda x: x == RESULT_BROKEN, reduce=False).all(axis=1)\n",
    "df_totally_broken = df_works_not[mask_totally_broken]\n",
    "num_totally_broken = mask_totally_broken.sum()\n",
    "\n",
    "print(\"always works without ECN but never with ECN: {} ({:.3%})\".format(num_totally_broken, num_totally_broken/num_online))\n",
    "\n",
    "# gather the rest\n",
    "num_totally_broken_not = (np.logical_not(mask_totally_broken)).sum()\n",
    "df_totally_broken_not = df_works_not[np.logical_not(mask_totally_broken)]"
   ]
  },
  {
   "cell_type": "code",
   "execution_count": 76,
   "metadata": {
    "collapsed": false
   },
   "outputs": [
    {
     "name": "stdout",
     "output_type": "stream",
     "text": [
      "either works with and without ECN or not at all: 9936 (1.446%)\n"
     ]
    }
   ],
   "source": [
    "mask_works_per_site = df_totally_broken_not['result-'+sites].apply(lambda x: (x == RESULT_WORKS) | (x == RESULT_NOBODYHOME), reduce=False).all(axis=1)\n",
    "df_works_per_site = df_totally_broken_not[mask_works_per_site]\n",
    "num_works_per_site = mask_works_per_site.sum()\n",
    "print(\"either works with and without ECN or not at all: {} ({:.3%})\".format(num_works_per_site, num_works_per_site/num_online))\n",
    "\n",
    "# gather the rest\n",
    "num_works_per_site_not = (np.logical_not(mask_works_per_site)).sum()\n",
    "df_works_per_site_not = df_totally_broken_not[np.logical_not(mask_works_per_site)]"
   ]
  },
  {
   "cell_type": "code",
   "execution_count": 77,
   "metadata": {
    "collapsed": false
   },
   "outputs": [
    {
     "name": "stdout",
     "output_type": "stream",
     "text": [
      "transient/other: 41286 (6.009%)\n"
     ]
    }
   ],
   "source": [
    "print(\"transient/other: {} ({:.3%})\".format(num_works_per_site_not, num_works_per_site_not/num_online))"
   ]
  },
  {
   "cell_type": "markdown",
   "metadata": {},
   "source": [
    "## TTL analysis"
   ]
  },
  {
   "cell_type": "code",
   "execution_count": 90,
   "metadata": {
    "collapsed": false
   },
   "outputs": [
    {
     "data": {
      "image/png": "[encoded data removed]",
      "text/plain": [
       "<matplotlib.figure.Figure at 0x7f80f6bc8828>"
      ]
     },
     "metadata": {},
     "output_type": "display_data"
    }
   ],
   "source": [
    "# Negotiation TTL spectrum\n",
    "def ttl_spectrum(df, col):\n",
    "    grp = df.groupby(np.digitize(df[col], np.linspace(0,255,256)))\n",
    "    ser = grp[col].count() / len(df)\n",
    "    ser.index = ser.index + (-1)\n",
    "    ser = ser.reindex(np.linspace(0,255,256), fill_value=0)\n",
    "    return ser\n",
    "\n",
    "ttl_col = 'ttl-lon'\n",
    "\n",
    "ettl = ttl_spectrum(df_works,ttl_col)\n",
    "nttl = ttl_spectrum(df_totally_broken,ttl_col)\n",
    "\n",
    "plt.figure(figsize=(6,1))\n",
    "plt.plot(ettl.index, ettl, color=\"b\", lw=2, alpha=0.50, label=\"always\")\n",
    "plt.plot(nttl.index, nttl, color=\"r\", lw=2, alpha=0.50, label=\"never\")\n",
    "plt.annotate(\"Linux\", xy=(65,0.1))\n",
    "plt.annotate(\"Windows\", xy=(129,0.05))\n",
    "plt.legend()\n",
    "plt.xlim(32,255)\n",
    "plt.yticks([0,0.1,0.2])\n",
    "plt.xticks([64,128,255])\n",
    "plt.ylabel(\"density\")\n",
    "plt.xlabel(\"TTL\")\n",
    "plt.savefig(\"connttl.png\", dpi=120, bbox_inches=\"tight\")"
   ]
  },
  {
   "cell_type": "code",
   "execution_count": 86,
   "metadata": {
    "collapsed": false
   },
   "outputs": [
    {
     "data": {
      "text/html": [
       "<table><tr><th></th><th>Linux</th><th>Windows</th></tr><tr><td style=\"color:blue;font-weight:bold;\">always</td><td>167595</td><td>466831</td></tr><tr><td style=\"color:red;font-weight:bold;\">never</td><td>557</td><td>884</td></tr><tr><td style=\"color:purple;font-weight:bold;\">other</td><td>29202</td><td>11024</td></tr></table>"
      ],
      "text/plain": [
       "<IPython.core.display.HTML object>"
      ]
     },
     "execution_count": 86,
     "metadata": {},
     "output_type": "execute_result"
    }
   ],
   "source": [
    "HTML(\"<table><tr><th></th><th>Linux</th><th>Windows</th></tr>\"\n",
    "     \"<tr><td style=\\\"color:blue;font-weight:bold;\\\">always</td><td>{}</td><td>{}</td></tr>\"\n",
    "     \"<tr><td style=\\\"color:red;font-weight:bold;\\\">never</td><td>{}</td><td>{}</td></tr>\"\n",
    "     \"<tr><td style=\\\"color:purple;font-weight:bold;\\\">other</td><td>{}</td><td>{}</td></tr></table>\".format(\n",
    "     (df_works[ttl_col] <= 64).sum(), (df_works[ttl_col] > 64).sum(),\n",
    "     (df_totally_broken[ttl_col] <= 64).sum(), (df_totally_broken[ttl_col] > 64).sum(),\n",
    "     (df_works_per_site_not[ttl_col] <= 64).sum(), (df_works_per_site_not[ttl_col] > 64).sum()))"
   ]
  },
  {
   "cell_type": "code",
   "execution_count": 87,
   "metadata": {
    "collapsed": false
   },
   "outputs": [
    {
     "data": {
      "text/html": [
       "<table><tr><th></th><th>Linux</th><th>Windows</th></tr><tr><td style=\"color:blue;font-weight:bold;\">always</td><td>167595 (24.39%)</td><td>466831 (67.94%)</td></tr><tr><td style=\"color:red;font-weight:bold;\">never</td><td>557 (0.08%)</td><td>884 (0.13%)</td></tr><tr><td style=\"color:purple;font-weight:bold;\">other</td><td>29202 (4.25%)</td><td>11024 (1.60%)</td></tr></table>"
      ],
      "text/plain": [
       "<IPython.core.display.HTML object>"
      ]
     },
     "execution_count": 87,
     "metadata": {},
     "output_type": "execute_result"
    }
   ],
   "source": [
    "HTML(\"<table><tr><th></th><th>Linux</th><th>Windows</th></tr>\"\n",
    "     \"<tr><td style=\\\"color:blue;font-weight:bold;\\\">always</td><td>{} ({:.2%})</td><td>{} ({:.2%})</td></tr>\"\n",
    "     \"<tr><td style=\\\"color:red;font-weight:bold;\\\">never</td><td>{} ({:.2%})</td><td>{} ({:.2%})</td></tr>\"\n",
    "     \"<tr><td style=\\\"color:purple;font-weight:bold;\\\">other</td><td>{} ({:.2%})</td><td>{} ({:.2%})</td></tr></table>\".format(\n",
    "     (df_works[ttl_col] <= 64).sum(), (df_works[ttl_col] <= 64).sum()/num_online, (df_works[ttl_col] > 64).sum(), (df_works[ttl_col] > 64).sum()/num_online,\n",
    "     (df_totally_broken[ttl_col] <= 64).sum(), (df_totally_broken[ttl_col] <= 64).sum()/num_online,(df_totally_broken[ttl_col] > 64).sum(),(df_totally_broken[ttl_col] > 64).sum()/num_online,\n",
    "     (df_works_per_site_not[ttl_col] <= 64).sum(), (df_works_per_site_not[ttl_col] <= 64).sum()/num_online, (df_works_per_site_not[ttl_col] > 64).sum(), (df_works_per_site_not[ttl_col] > 64).sum()/num_online))"
   ]
  },
  {
   "cell_type": "code",
   "execution_count": 47,
   "metadata": {
    "collapsed": false
   },
   "outputs": [
    {
     "data": {
      "text/plain": [
       "0.18948309180266887"
      ]
     },
     "execution_count": 47,
     "metadata": {},
     "output_type": "execute_result"
    }
   ],
   "source": [
    "df_works['ecnNegotiated-lon'].sum()/len(df_works)"
   ]
  },
  {
   "cell_type": "code",
   "execution_count": 54,
   "metadata": {
    "collapsed": false
   },
   "outputs": [
    {
     "data": {
      "image/png": "[encoded data removed]",
      "text/plain": [
       "<matplotlib.figure.Figure at 0x7f80fc1f0198>"
      ]
     },
     "metadata": {},
     "output_type": "display_data"
    }
   ],
   "source": [
    "ttl_col = 'ttl-lon'\n",
    "ecnNegotiated_col = 'ecnNegotiated-lon'\n",
    "\n",
    "nego_ettl = ttl_spectrum(df_works[df_works[ecnNegotiated_col]],ttl_col)\n",
    "nego_nttl = ttl_spectrum(df_works[np.logical_not(df_works[ecnNegotiated_col])],ttl_col)\n",
    "\n",
    "plt.figure(figsize=(6,1))\n",
    "plt.plot(ettl.index, ettl, color=\"b\", lw=2, alpha=0.50, label=\"negotiated\")\n",
    "plt.plot(nttl.index, nttl, color=\"r\", lw=2, alpha=0.50, label=\"not negotiated\")\n",
    "plt.annotate(\"Linux\", xy=(65,0.1))\n",
    "plt.annotate(\"Windows\", xy=(129,0.05))\n",
    "plt.legend()\n",
    "plt.xlim(32,255)\n",
    "plt.yticks([0,0.1,0.2])\n",
    "plt.xticks([64,128,255])\n",
    "plt.ylabel(\"density\")\n",
    "plt.xlabel(\"TTL\")\n",
    "plt.savefig(\"negottl.png\", dpi=120, bbox_inches=\"tight\")"
   ]
  },
  {
   "cell_type": "code",
   "execution_count": 88,
   "metadata": {
    "collapsed": false
   },
   "outputs": [
    {
     "data": {
      "text/html": [
       "<table><tr><th style=\"color:blue;font-weight:bold;\">always</th><th>Linux</th><th>Windows</th></tr><tr><td style=\"font-weight:bold;\">negotiated</td><td>114432 (18%)</td><td>5781 (1%)</td></tr><tr><td style=\"font-weight:bold;\">not negotiated</td><td>53163 (8%)</td><td>461050 (73%)</td></tr></table>"
      ],
      "text/plain": [
       "<IPython.core.display.HTML object>"
      ]
     },
     "execution_count": 88,
     "metadata": {},
     "output_type": "execute_result"
    }
   ],
   "source": [
    "df_works_ecn = df_works[df_works[ecnNegotiated_col]]\n",
    "df_works_ecn_not = df_works[np.logical_not(df_works[ecnNegotiated_col])]\n",
    "\n",
    "HTML(\"<table><tr><th style=\\\"color:blue;font-weight:bold;\\\">always</th><th>Linux</th><th>Windows</th></tr>\"\n",
    "     \"<tr><td style=\\\"font-weight:bold;\\\">negotiated</td><td>{} ({:.0%})</td><td>{} ({:.0%})</td></tr>\"\n",
    "     \"<tr><td style=\\\"font-weight:bold;\\\">not negotiated</td><td>{} ({:.0%})</td><td>{} ({:.0%})</td></tr></table>\".format(\n",
    "    (df_works_ecn[ttl_col] <= 64).sum(), (df_works_ecn[ttl_col] <= 64).sum()/len(df_works),\n",
    "    (df_works_ecn[ttl_col] > 64).sum(), (df_works_ecn[ttl_col] > 64).sum()/len(df_works),\n",
    "    (df_works_ecn_not[ttl_col] <= 64).sum(), (df_works_ecn_not[ttl_col] <= 64).sum()/len(df_works),\n",
    "    (df_works_ecn_not[ttl_col] > 64).sum(), (df_works_ecn_not[ttl_col] > 64).sum()/len(df_works)))"
   ]
  },
  {
   "cell_type": "markdown",
   "metadata": {},
   "source": [
    "### ECN site & path analysis"
   ]
  },
  {
   "cell_type": "code",
   "execution_count": 57,
   "metadata": {
    "collapsed": false
   },
   "outputs": [],
   "source": [
    "#ecn_nego_on_attempt = ((df_online[mask_works])['prop-negotiated'] > 0).sum()\n",
    "#print(\"{} ({:.2%}): Number of connections where ecn has actually been negotiated on successful connect.\".format(ecn_nego_on_attempt, ecn_nego_on_attempt / ecn_understood_all_mask.sum()))"
   ]
  },
  {
   "cell_type": "code",
   "execution_count": 58,
   "metadata": {
    "collapsed": false,
    "scrolled": false
   },
   "outputs": [
    {
     "data": {
      "text/plain": [
       "(1829264, 4851726)"
      ]
     },
     "execution_count": 58,
     "metadata": {},
     "output_type": "execute_result"
    },
    {
     "data": {
      "image/png": "[encoded data removed]",
      "text/plain": [
       "<matplotlib.figure.Figure at 0x7f80fc18e978>"
      ]
     },
     "metadata": {},
     "output_type": "display_data"
    }
   ],
   "source": [
    "df[df['connstate']]['ttl'].hist(bins=255)\n",
    "(df['connstate'] & (df['ttl'] < 80)).sum(), (df['connstate'] & (df['ttl'] > 80)).sum()\n",
    "#df[df['connstate']].sort('ttl')"
   ]
  },
  {
   "cell_type": "code",
   "execution_count": null,
   "metadata": {
    "collapsed": false
   },
   "outputs": [],
   "source": []
  },
  {
   "cell_type": "code",
   "execution_count": null,
   "metadata": {
    "collapsed": true
   },
   "outputs": [],
   "source": []
  }
 ],
 "metadata": {
  "kernelspec": {
   "display_name": "Python 3",
   "language": "python",
   "name": "python3"
  },
  "language_info": {
   "codemirror_mode": {
    "name": "ipython",
    "version": 3
   },
   "file_extension": ".py",
   "mimetype": "text/x-python",
   "name": "python",
   "nbconvert_exporter": "python",
   "pygments_lexer": "ipython3",
   "version": "3.4.0"
  }
 },
 "nbformat": 4,
 "nbformat_minor": 0
}
