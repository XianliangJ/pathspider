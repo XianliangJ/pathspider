{
 "cells": [
  {
   "cell_type": "code",
   "execution_count": 1,
   "metadata": {
    "collapsed": false
   },
   "outputs": [],
   "source": [
    "import numpy as np\n",
    "import pandas as pd\n",
    "import ecnconst\n",
    "import matplotlib.pyplot as plt\n",
    "%matplotlib inline"
   ]
  },
  {
   "cell_type": "code",
   "execution_count": 2,
   "metadata": {
    "collapsed": true
   },
   "outputs": [],
   "source": [
    "from IPython.core.display import HTML"
   ]
  },
  {
   "cell_type": "code",
   "execution_count": 3,
   "metadata": {
    "collapsed": false
   },
   "outputs": [],
   "source": [
    "S = ecnconst.TCP_SYN\n",
    "R = ecnconst.TCP_RST\n",
    "SA = ecnconst.TCP_SYN | ecnconst.TCP_ACK\n",
    "SEW = (ecnconst.TCP_SYN | ecnconst.TCP_ECE | ecnconst.TCP_CWR)\n",
    "SAE = (ecnconst.TCP_SYN | ecnconst.TCP_ECE | ecnconst.TCP_ACK)\n",
    "SAEW = (ecnconst.TCP_SYN | ecnconst.TCP_ECE | ecnconst.TCP_ACK | ecnconst.TCP_CWR)\n",
    "QECT = (ecnconst.QOF_ECT0 | ecnconst.QOF_ECT1)\n",
    "QECT0 = ecnconst.QOF_ECT0\n",
    "QECT1 = ecnconst.QOF_ECT1\n",
    "QCE = ecnconst.QOF_CE"
   ]
  },
  {
   "cell_type": "code",
   "execution_count": 4,
   "metadata": {
    "collapsed": true
   },
   "outputs": [],
   "source": [
    "RESULT_NOBODYHOME = 0\n",
    "RESULT_OTHER = 1\n",
    "RESULT_BROKEN = 2\n",
    "RESULT_WORKS = 3"
   ]
  },
  {
   "cell_type": "markdown",
   "metadata": {},
   "source": [
    "# Load data from csv"
   ]
  },
  {
   "cell_type": "code",
   "execution_count": 5,
   "metadata": {
    "collapsed": false
   },
   "outputs": [
    {
     "data": {
      "text/plain": [
       "(99980, 14)"
      ]
     },
     "execution_count": 5,
     "metadata": {},
     "output_type": "execute_result"
    }
   ],
   "source": [
    "df = pd.read_csv('meas/m210415_02.csv')\n",
    "df.shape\n",
    "#                 names=['site','ip','port','rport','ecnstate','nodeid','connstate','fif','fsf','fuf','fir','fsr','fur','ttl'])"
   ]
  },
  {
   "cell_type": "markdown",
   "metadata": {},
   "source": [
    "# Cleanup\n",
    "Remove all flows without SYN"
   ]
  },
  {
   "cell_type": "code",
   "execution_count": 7,
   "metadata": {
    "collapsed": false
   },
   "outputs": [
    {
     "name": "stdout",
     "output_type": "stream",
     "text": [
      "Deleting flows without initial SYN: 0 of 99980 (0.0%) were affected.\n"
     ]
    }
   ],
   "source": [
    "mask_initsyn = (df['fif'] & ecnconst.TCP_SYN) != 0\n",
    "count_nosyn = df.shape[0] - sum(mask_initsyn)\n",
    "print(\"Deleting flows without initial SYN: {} of {} ({:.1%}) were affected.\".format(count_nosyn, df.shape[0], float(count_nosyn) / df.shape[0]))\n",
    "df = df[df['fif'] & ecnconst.TCP_SYN != 0]"
   ]
  },
  {
   "cell_type": "markdown",
   "metadata": {
    "collapsed": false
   },
   "source": [
    "# ECN capability analysis"
   ]
  },
  {
   "cell_type": "code",
   "execution_count": 8,
   "metadata": {
    "collapsed": false
   },
   "outputs": [],
   "source": [
    "# ECN flags on TCP layer\n",
    "df['ecnAttempted'] = np.bitwise_and(df['fsf'], SAEW) == SEW\n",
    "df['ecnNegotiated'] = np.bitwise_and(df['fsr'], SAEW) == SAE\n",
    "\n",
    "# ECN flags on IP layer\n",
    "df[\"ecnCapable\"] = np.bitwise_and(df[\"fur\"], QECT0 << 8) > 0\n",
    "df[\"ecnECT1\"] = np.bitwise_and(df[\"fur\"], QECT1 << 8) > 0\n",
    "df[\"ecnCE\"] = np.bitwise_and(df[\"fur\"], QCE << 8) > 0\n",
    "\n",
    "# check for SYN, SYN+ACK\n",
    "df[\"didEstablish\"] = ((np.bitwise_and(df[\"fsf\"], S) == S) &\n",
    "                      (np.bitwise_and(df[\"fsr\"], SA) == SA))"
   ]
  },
  {
   "cell_type": "code",
   "execution_count": 9,
   "metadata": {
    "collapsed": false
   },
   "outputs": [
    {
     "name": "stdout",
     "output_type": "stream",
     "text": [
      "Percentage of sucessfully ecn-enabled connections when asking for ecn: 46.55%\n"
     ]
    }
   ],
   "source": [
    "print(\"Percentage of sucessfully ecn-enabled connections when asking for ecn: {:.2%}\".format(\n",
    "    (df['ecnNegotiated'] & df['connstate']).sum() / (df['ecnAttempted'] & df['connstate']).sum()\n",
    "    ))"
   ]
  },
  {
   "cell_type": "code",
   "execution_count": 10,
   "metadata": {
    "collapsed": false
   },
   "outputs": [
    {
     "name": "stdout",
     "output_type": "stream",
     "text": [
      "Number of connections reported differently by the OS and QoF: 1059 of 99980 (1.06%)\n"
     ]
    }
   ],
   "source": [
    "conn_conflict = df[df['connstate'] != df['didEstablish']]\n",
    "print(\"Number of connections reported differently by the OS and QoF: {} of {} ({:.2%})\".format(conn_conflict.shape[0], df.shape[0], conn_conflict.shape[0] / df.shape[0]))"
   ]
  },
  {
   "cell_type": "code",
   "execution_count": 11,
   "metadata": {
    "collapsed": false
   },
   "outputs": [
    {
     "name": "stdout",
     "output_type": "stream",
     "text": [
      "Number of connections reported as established by the OS but as failure by QoF: 960 of 99980 (0.96%)\n"
     ]
    }
   ],
   "source": [
    "conn_conflict = df[(df['connstate'] == 1) & (df['connstate'] != df['didEstablish'])]\n",
    "print(\"Number of connections reported as established by the OS but as failure by QoF: {} of {} ({:.2%})\".format(conn_conflict.shape[0], df.shape[0], conn_conflict.shape[0] / df.shape[0]))"
   ]
  },
  {
   "cell_type": "code",
   "execution_count": 12,
   "metadata": {
    "collapsed": false
   },
   "outputs": [
    {
     "name": "stdout",
     "output_type": "stream",
     "text": [
      "Number of connections reported as failure by the OS but as success by QoF: 99 of 99980 (0.10%)\n"
     ]
    }
   ],
   "source": [
    "conn_conflict = df[(df['connstate'] == 0) & (df['connstate'] != df['didEstablish'])]\n",
    "print(\"Number of connections reported as failure by the OS but as success by QoF: {} of {} ({:.2%})\".format(conn_conflict.shape[0], df.shape[0], conn_conflict.shape[0] / df.shape[0]))"
   ]
  },
  {
   "cell_type": "markdown",
   "metadata": {},
   "source": [
    "# Group by endpoints and transform site results to columns"
   ]
  },
  {
   "cell_type": "code",
   "execution_count": 13,
   "metadata": {
    "collapsed": true
   },
   "outputs": [],
   "source": [
    "sites = df['site'].unique()"
   ]
  },
  {
   "cell_type": "code",
   "execution_count": null,
   "metadata": {
    "collapsed": false
   },
   "outputs": [],
   "source": [
    "incomplete_groups = set()\n",
    "def group_to_columns(group):\n",
    "    cols = {'ip':[group['ip'].iloc[0]], 'port':[group['port'].iloc[0]]}\n",
    "    for site in sites:\n",
    "        gsite = group[group['site'] == site]\n",
    "        try:\n",
    "            ecn_on = gsite[gsite['ecnstate'] == 1].iloc[0]\n",
    "            ecn_off = gsite[gsite['ecnstate'] == 0].iloc[0]\n",
    "        except IndexError:\n",
    "            incomplete_groups.add(group['ip'].iloc[0])\n",
    "            return None\n",
    "        #cols[name+'-ecn0-connstate'] = [ecn_off['connstate']]\n",
    "        #cols[name+'-ecn1-connstate'] = [ecn_off['connstate']]\n",
    "        \n",
    "        if ecn_off['connstate'] and ecn_on['connstate']:\n",
    "            result = RESULT_WORKS\n",
    "        elif ecn_off['connstate'] and not ecn_on['connstate']:\n",
    "            result = RESULT_BROKEN\n",
    "        elif not ecn_off['connstate'] and not ecn_on['connstate']:\n",
    "            result = RESULT_NOBODYHOME\n",
    "        else:\n",
    "            result = RESULT_OTHER\n",
    "        \n",
    "        cols['result-'+site] = [result]\n",
    "        cols['ecnNegotiated-'+site] = ecn_on['ecnNegotiated']\n",
    "        cols['ttl-'+site] = ecn_off['ttl']\n",
    "    \n",
    "    return pd.DataFrame(cols)\n",
    "\n",
    "dfg = df.groupby(by='ip').apply(group_to_columns)"
   ]
  },
  {
   "cell_type": "markdown",
   "metadata": {},
   "source": [
    "# Is dataset complete?"
   ]
  },
  {
   "cell_type": "code",
   "execution_count": 40,
   "metadata": {
    "collapsed": false
   },
   "outputs": [
    {
     "name": "stdout",
     "output_type": "stream",
     "text": [
      "Warning: There are 10 ips where measurement results are missing from one or more vantage points.\n",
      "174.118.160.234\n",
      "5.39.66.47\n",
      "195.154.90.155\n",
      "62.210.82.9\n",
      "5.135.156.37\n",
      "109.255.240.73\n",
      "86.171.195.5\n",
      "195.154.93.39\n",
      "95.19.100.215\n",
      "80.213.196.185\n"
     ]
    }
   ],
   "source": [
    "if len(incomplete_groups) > 0:\n",
    "    print(\"Warning: There are {} ips where measurement results are missing from one or more vantage points.\".format(len(incomplete_groups)))\n",
    "    print(\"\\n\".join(incomplete_groups))\n",
    "else:\n",
    "    print(\"OK! All ips have measurement results from all vantage points.\")"
   ]
  },
  {
   "cell_type": "markdown",
   "metadata": {},
   "source": [
    "# Results"
   ]
  },
  {
   "cell_type": "code",
   "execution_count": 41,
   "metadata": {
    "collapsed": false
   },
   "outputs": [
    {
     "name": "stdout",
     "output_type": "stream",
     "text": [
      "online: 7034 (70.42%)\n"
     ]
    }
   ],
   "source": [
    "# offline: never made any successful connection\n",
    "mask_offline = dfg['result-'+sites].apply(lambda x: x == RESULT_NOBODYHOME, reduce=False).all(axis=1)\n",
    "df_online = dfg[-mask_offline]\n",
    "\n",
    "num_offline = (mask_offline.sum())\n",
    "num_online = (-mask_offline).sum()\n",
    "print(\"online: {} ({:.2%})\".format(num_online, num_online/dfg.shape[0]))"
   ]
  },
  {
   "cell_type": "code",
   "execution_count": 42,
   "metadata": {
    "collapsed": false
   },
   "outputs": [
    {
     "name": "stdout",
     "output_type": "stream",
     "text": [
      "works all path: 6517 (92.650%)\n"
     ]
    }
   ],
   "source": [
    "# always works without ECN and with ECN\n",
    "mask_works = df_online['result-'+sites].apply(lambda x: x == RESULT_WORKS, reduce=False).all(axis=1)\n",
    "df_works = df_online[mask_works]\n",
    "num_works = mask_works.sum()\n",
    "\n",
    "print(\"works all path: {} ({:.3%})\".format(num_works, num_works/num_online))\n",
    "\n",
    "# gather the rest\n",
    "num_works_not = (-mask_works).sum()\n",
    "df_works_not = df_online[-mask_works]"
   ]
  },
  {
   "cell_type": "code",
   "execution_count": 43,
   "metadata": {
    "collapsed": false
   },
   "outputs": [
    {
     "name": "stdout",
     "output_type": "stream",
     "text": [
      "always works without ECN but never with ECN: 21 (0.299%)\n"
     ]
    }
   ],
   "source": [
    "# always works without ECN but never with ECN\n",
    "mask_totally_broken = df_works_not['result-'+sites].apply(lambda x: x == RESULT_BROKEN, reduce=False).all(axis=1)\n",
    "df_totally_broken = df_works_not[mask_totally_broken]\n",
    "num_totally_broken = mask_totally_broken.sum()\n",
    "\n",
    "print(\"always works without ECN but never with ECN: {} ({:.3%})\".format(num_totally_broken, num_totally_broken/num_online))\n",
    "\n",
    "# gather the rest\n",
    "num_totally_broken_not = (-mask_totally_broken).sum()\n",
    "df_totally_broken_not = df_works_not[-mask_totally_broken]"
   ]
  },
  {
   "cell_type": "code",
   "execution_count": 44,
   "metadata": {
    "collapsed": false
   },
   "outputs": [
    {
     "name": "stdout",
     "output_type": "stream",
     "text": [
      "either works with and without ECN or not at all: 25 (0.355%)\n"
     ]
    }
   ],
   "source": [
    "mask_works_per_site = df_totally_broken_not['result-'+sites].apply(lambda x: (x == RESULT_WORKS) | (x == RESULT_NOBODYHOME), reduce=False).all(axis=1)\n",
    "df_works_per_site = df_totally_broken_not[mask_works_per_site]\n",
    "num_works_per_site = mask_works_per_site.sum()\n",
    "print(\"either works with and without ECN or not at all: {} ({:.3%})\".format(num_works_per_site, num_works_per_site/num_online))\n",
    "\n",
    "# gather the rest\n",
    "num_works_per_site_not = (-mask_works_per_site).sum()\n",
    "df_works_per_site_not = df_totally_broken_not[-mask_works_per_site]"
   ]
  },
  {
   "cell_type": "code",
   "execution_count": 45,
   "metadata": {
    "collapsed": false
   },
   "outputs": [
    {
     "name": "stdout",
     "output_type": "stream",
     "text": [
      "transient/other: 471 (6.696%)\n"
     ]
    }
   ],
   "source": [
    "print(\"transient/other: {} ({:.3%})\".format(num_works_per_site_not, num_works_per_site_not/num_online))"
   ]
  },
  {
   "cell_type": "markdown",
   "metadata": {},
   "source": [
    "## TTL analysis"
   ]
  },
  {
   "cell_type": "code",
   "execution_count": 46,
   "metadata": {
    "collapsed": false
   },
   "outputs": [
    {
     "data": {
      "image/png": "[encoded data removed]",
      "text/plain": [
       "<matplotlib.figure.Figure at 0x7f61065f2f98>"
      ]
     },
     "metadata": {},
     "output_type": "display_data"
    }
   ],
   "source": [
    "# Negotiation TTL spectrum\n",
    "def ttl_spectrum(df, col):\n",
    "    grp = df.groupby(np.digitize(df[col], np.linspace(0,255,256)))\n",
    "    ser = grp[col].count() / len(df)\n",
    "    ser.index = ser.index + (-1)\n",
    "    ser = ser.reindex(np.linspace(0,255,256), fill_value=0)\n",
    "    return ser\n",
    "\n",
    "ttl_col = 'ttl-lon'\n",
    "\n",
    "ettl = ttl_spectrum(df_works,ttl_col)\n",
    "nttl = ttl_spectrum(df_totally_broken,ttl_col)\n",
    "\n",
    "plt.figure(figsize=(6,1))\n",
    "plt.plot(ettl.index, ettl, color=\"b\", lw=2, alpha=0.50, label=\"always\")\n",
    "plt.plot(nttl.index, nttl, color=\"r\", lw=2, alpha=0.50, label=\"never\")\n",
    "plt.annotate(\"Linux\", xy=(65,0.1))\n",
    "plt.annotate(\"Windows\", xy=(129,0.05))\n",
    "plt.legend()\n",
    "plt.xlim(32,255)\n",
    "plt.yticks([0,0.1,0.2])\n",
    "plt.xticks([64,128,255])\n",
    "plt.ylabel(\"density\")\n",
    "plt.xlabel(\"TTL\")\n",
    "plt.savefig(\"connttl.png\", dpi=120, bbox_inches=\"tight\")"
   ]
  },
  {
   "cell_type": "code",
   "execution_count": 47,
   "metadata": {
    "collapsed": false
   },
   "outputs": [
    {
     "data": {
      "text/html": [
       "<table><tr><th></th><th>Linux</th><th>Windows</th></tr><tr><td style=\"color:blue;font-weight:bold;\">always</td><td>3159</td><td>3358</td></tr><tr><td style=\"color:red;font-weight:bold;\">never</td><td>16</td><td>5</td></tr><tr><td style=\"color:purple;font-weight:bold;\">other</td><td>373</td><td>98</td></tr></table>"
      ],
      "text/plain": [
       "<IPython.core.display.HTML object>"
      ]
     },
     "execution_count": 47,
     "metadata": {},
     "output_type": "execute_result"
    }
   ],
   "source": [
    "HTML(\"<table><tr><th></th><th>Linux</th><th>Windows</th></tr>\"\n",
    "     \"<tr><td style=\\\"color:blue;font-weight:bold;\\\">always</td><td>{}</td><td>{}</td></tr>\"\n",
    "     \"<tr><td style=\\\"color:red;font-weight:bold;\\\">never</td><td>{}</td><td>{}</td></tr>\"\n",
    "     \"<tr><td style=\\\"color:purple;font-weight:bold;\\\">other</td><td>{}</td><td>{}</td></tr></table>\".format(\n",
    "     (df_works[ttl_col] <= 64).sum(), (df_works[ttl_col] > 64).sum(),\n",
    "     (df_totally_broken[ttl_col] <= 64).sum(), (df_totally_broken[ttl_col] > 64).sum(),\n",
    "     (df_works_per_site_not[ttl_col] <= 64).sum(), (df_works_per_site_not[ttl_col] > 64).sum()))"
   ]
  },
  {
   "cell_type": "code",
   "execution_count": 48,
   "metadata": {
    "collapsed": false
   },
   "outputs": [
    {
     "data": {
      "text/plain": [
       "0.45787939235844716"
      ]
     },
     "execution_count": 48,
     "metadata": {},
     "output_type": "execute_result"
    }
   ],
   "source": [
    "df_works['ecnNegotiated-lon'].sum()/len(df_works)"
   ]
  },
  {
   "cell_type": "code",
   "execution_count": 49,
   "metadata": {
    "collapsed": false
   },
   "outputs": [
    {
     "data": {
      "image/png": "[encoded data removed]",
      "text/plain": [
       "<matplotlib.figure.Figure at 0x7f6106071710>"
      ]
     },
     "metadata": {},
     "output_type": "display_data"
    }
   ],
   "source": [
    "ttl_col = 'ttl-lon'\n",
    "ecnNegotiated_col = 'ecnNegotiated-lon'\n",
    "\n",
    "nego_ettl = ttl_spectrum(df_works[df_works[ecnNegotiated_col]],ttl_col)\n",
    "nego_nttl = ttl_spectrum(df_works[-df_works[ecnNegotiated_col]],ttl_col)\n",
    "\n",
    "plt.figure(figsize=(6,1))\n",
    "plt.plot(ettl.index, ettl, color=\"b\", lw=2, alpha=0.50, label=\"negotiated\")\n",
    "plt.plot(nttl.index, nttl, color=\"r\", lw=2, alpha=0.50, label=\"not negotiated\")\n",
    "plt.annotate(\"Linux\", xy=(65,0.1))\n",
    "plt.annotate(\"Windows\", xy=(129,0.05))\n",
    "plt.legend()\n",
    "plt.xlim(32,255)\n",
    "plt.yticks([0,0.1,0.2])\n",
    "plt.xticks([64,128,255])\n",
    "plt.ylabel(\"density\")\n",
    "plt.xlabel(\"TTL\")\n",
    "plt.savefig(\"negottl.png\", dpi=120, bbox_inches=\"tight\")"
   ]
  },
  {
   "cell_type": "code",
   "execution_count": 50,
   "metadata": {
    "collapsed": false
   },
   "outputs": [
    {
     "data": {
      "text/html": [
       "<table><tr><th style=\"color:blue;font-weight:bold;\">always</th><th>Linux</th><th>Windows</th></tr><tr><td style=\"font-weight:bold;\">negotiated</td><td>2827 (43%)</td><td>157 (2%)</td></tr><tr><td style=\"font-weight:bold;\">not negotiated</td><td>332 (5%)</td><td>3201 (49%)</td></tr></table>"
      ],
      "text/plain": [
       "<IPython.core.display.HTML object>"
      ]
     },
     "execution_count": 50,
     "metadata": {},
     "output_type": "execute_result"
    }
   ],
   "source": [
    "df_works_ecn = df_works[df_works[ecnNegotiated_col]]\n",
    "df_works_ecn_not = df_works[-df_works[ecnNegotiated_col]]\n",
    "\n",
    "HTML(\"<table><tr><th style=\\\"color:blue;font-weight:bold;\\\">always</th><th>Linux</th><th>Windows</th></tr>\"\n",
    "     \"<tr><td style=\\\"font-weight:bold;\\\">negotiated</td><td>{} ({:.0%})</td><td>{} ({:.0%})</td></tr>\"\n",
    "     \"<tr><td style=\\\"font-weight:bold;\\\">not negotiated</td><td>{} ({:.0%})</td><td>{} ({:.0%})</td></tr></table>\".format(\n",
    "    (df_works_ecn[ttl_col] <= 64).sum(), (df_works_ecn[ttl_col] <= 64).sum()/len(df_works),\n",
    "    (df_works_ecn[ttl_col] > 64).sum(), (df_works_ecn[ttl_col] > 64).sum()/len(df_works),\n",
    "    (df_works_ecn_not[ttl_col] <= 64).sum(), (df_works_ecn_not[ttl_col] <= 64).sum()/len(df_works),\n",
    "    (df_works_ecn_not[ttl_col] > 64).sum(), (df_works_ecn_not[ttl_col] > 64).sum()/len(df_works)))"
   ]
  },
  {
   "cell_type": "markdown",
   "metadata": {},
   "source": [
    "### ECN site & path analysis"
   ]
  },
  {
   "cell_type": "code",
   "execution_count": 51,
   "metadata": {
    "collapsed": false
   },
   "outputs": [],
   "source": [
    "#ecn_nego_on_attempt = ((df_online[mask_works])['prop-negotiated'] > 0).sum()\n",
    "#print(\"{} ({:.2%}): Number of connections where ecn has actually been negotiated on successful connect.\".format(ecn_nego_on_attempt, ecn_nego_on_attempt / ecn_understood_all_mask.sum()))"
   ]
  },
  {
   "cell_type": "code",
   "execution_count": 52,
   "metadata": {
    "collapsed": false,
    "scrolled": false
   },
   "outputs": [
    {
     "data": {
      "text/plain": [
       "(34140, 34690)"
      ]
     },
     "execution_count": 52,
     "metadata": {},
     "output_type": "execute_result"
    },
    {
     "data": {
      "image/png": "[encoded data removed]",
      "text/plain": [
       "<matplotlib.figure.Figure at 0x7f610c399cc0>"
      ]
     },
     "metadata": {},
     "output_type": "display_data"
    }
   ],
   "source": [
    "df[df['connstate']]['ttl'].hist(bins=255)\n",
    "(df['connstate'] & (df['ttl'] < 80)).sum(), (df['connstate'] & (df['ttl'] > 80)).sum()\n",
    "#df[df['connstate']].sort('ttl')"
   ]
  },
  {
   "cell_type": "code",
   "execution_count": null,
   "metadata": {
    "collapsed": false
   },
   "outputs": [],
   "source": []
  },
  {
   "cell_type": "code",
   "execution_count": null,
   "metadata": {
    "collapsed": true
   },
   "outputs": [],
   "source": []
  }
 ],
 "metadata": {
  "kernelspec": {
   "display_name": "Python 3",
   "language": "python",
   "name": "python3"
  },
  "language_info": {
   "codemirror_mode": {
    "name": "ipython",
    "version": 3
   },
   "file_extension": ".py",
   "mimetype": "text/x-python",
   "name": "python",
   "nbconvert_exporter": "python",
   "pygments_lexer": "ipython3",
   "version": "3.4.0"
  }
 },
 "nbformat": 4,
 "nbformat_minor": 0
}
